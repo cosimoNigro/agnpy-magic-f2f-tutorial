{
 "cells": [
  {
   "cell_type": "markdown",
   "id": "b8625d2f",
   "metadata": {},
   "source": [
    "# 5. $\\gamma\\gamma$ absorption\n",
    "\n",
    "The same soft photon fields that constitute the target for Compton scattering, can absorb high-energy photons via $\\gamma\\gamma$ pair production.\n",
    "\n",
    "In this tutorial, we will show how to compute the $\\gamma\\gamma$ opacity, $\\tau_{\\gamma\\gamma}$, due to photon fields internal and external to the jet."
   ]
  },
  {
   "cell_type": "code",
   "execution_count": null,
   "id": "08b221e5",
   "metadata": {},
   "outputs": [],
   "source": [
    "# import numpy, astropy and matplotlib for basic functionalities\n",
    "import numpy as np\n",
    "import astropy.units as u\n",
    "import astropy.constants as const\n",
    "from astropy.coordinates import Distance\n",
    "import pkg_resources\n",
    "import matplotlib.pyplot as plt\n",
    "from IPython.display import Image"
   ]
  },
  {
   "cell_type": "code",
   "execution_count": null,
   "id": "2fc2beff",
   "metadata": {},
   "outputs": [],
   "source": [
    "# import agnpy classes\n",
    "from agnpy.spectra import PowerLaw\n",
    "from agnpy.emission_regions import Blob\n",
    "from agnpy.targets import (\n",
    "    lines_dictionary,\n",
    "    SphericalShellBLR,\n",
    "    RingDustTorus,\n",
    "    PointSourceBehindJet,\n",
    ")\n",
    "from agnpy.absorption import Absorption\n",
    "from agnpy.utils.plot import load_mpl_rc, sed_x_label\n",
    "\n",
    "load_mpl_rc()\n",
    "tau_label = r\"$\\tau_{\\gamma\\gamma}$\""
   ]
  },
  {
   "cell_type": "markdown",
   "id": "c8e2fd36",
   "metadata": {},
   "source": [
    "## 5.1. Absorption on the photon field external to the jet\n",
    "\n",
    "In this first section, let us examine the absorption on photon fields external to the blob.    \n",
    "Let us consider a BLR composed of three shells, emitting the ${\\rm Ly\\alpha}$, the ${\\rm H\\alpha}$, and the ${\\rm H\\beta}$ line.   \n",
    "In the stratified BLR model of [Finke 2016](https://ui.adsabs.harvard.edu/abs/2016ApJ...830...94F/abstract) that we adopt in `agnpy`, luminosities and radii of the different shells are expressed as a fraction of those of the ${\\rm H\\beta}$-emitting shell.\n",
    "We will therefore define first the ${\\rm H\\beta}$ shell and obtain the others with the scaling relations."
   ]
  },
  {
   "cell_type": "code",
   "execution_count": null,
   "id": "d03c1fef",
   "metadata": {},
   "outputs": [],
   "source": [
    "# fetch from the lines_dictionary the shells we want to use\n",
    "Ly_alpha = lines_dictionary[\"Lyalpha\"]\n",
    "H_alpha = lines_dictionary[\"Halpha\"]\n",
    "H_beta = lines_dictionary[\"Hbeta\"]\n",
    "\n",
    "# each dictionary contains the line wavelenght and its radius and luminosity scale to the Hbeta line\n",
    "print(Ly_alpha)"
   ]
  },
  {
   "cell_type": "code",
   "execution_count": null,
   "id": "7415d8f8",
   "metadata": {},
   "outputs": [],
   "source": [
    "# starts from the Hbeta shell and define the others from it\n",
    "L_H_beta = 4 * 1e43 * u.Unit(\"erg s-1\")\n",
    "R_H_beta = 4.07 * 1e17 * u.cm\n",
    "\n",
    "H_beta_blr = SphericalShellBLR(L_H_beta, 1, \"Hbeta\", R_H_beta)\n",
    "\n",
    "\n",
    "# obtain radius and luminosity of the Ly alpha\n",
    "R_Ly_alpha = R_H_beta * Ly_alpha[\"R_Hbeta_ratio\"]\n",
    "L_Ly_alpha = L_H_beta * Ly_alpha[\"L_Hbeta_ratio\"]\n",
    "\n",
    "Ly_alpha_blr = SphericalShellBLR(L_Ly_alpha, 1, \"Lyalpha\", R_Ly_alpha)\n",
    "\n",
    "\n",
    "# obtain radius and luminosity of the H alpha\n",
    "R_H_alpha = R_H_beta * H_alpha[\"R_Hbeta_ratio\"]\n",
    "L_H_alpha = L_H_beta * H_alpha[\"L_Hbeta_ratio\"]\n",
    "\n",
    "H_alpha_blr = SphericalShellBLR(L_H_alpha, 1, \"Halpha\", R_H_alpha)"
   ]
  },
  {
   "cell_type": "code",
   "execution_count": null,
   "id": "50cee798",
   "metadata": {},
   "outputs": [],
   "source": [
    "print(H_beta_blr)\n",
    "print(Ly_alpha_blr)\n",
    "print(H_alpha_blr)"
   ]
  },
  {
   "cell_type": "markdown",
   "id": "4c166be3",
   "metadata": {},
   "source": [
    "Note that here we assumed that all of the accretion disk radiation goes into each of those lines. Normally it is only a small fraction (e.g. 10%) that goes into sum of all the lines (and different lines take different fractions of this). \n",
    "The absorption on external photon fields (calculated for energies measured in the observer's frame of reference!) does not depend on any of the blob parameters, so we need to pass to the `Absorption` class an instance of the target and the distance from the photon field where to evaluate the absorption.   \n",
    "The redshift of the host galaxy is also needed to determine the transformation of the observed frequency once we compute the opacity values."
   ]
  },
  {
   "cell_type": "code",
   "execution_count": null,
   "id": "5075555f",
   "metadata": {},
   "outputs": [],
   "source": [
    "r = 1e17 * u.cm\n",
    "\n",
    "z = 1\n",
    "\n",
    "abs_H_beta = Absorption(H_beta_blr, r=r, z=z)\n",
    "abs_Ly_alpha = Absorption(Ly_alpha_blr, r=r, z=z)\n",
    "abs_H_alpha = Absorption(H_alpha_blr, r=r, z=z)"
   ]
  },
  {
   "cell_type": "markdown",
   "id": "ec3eb049",
   "metadata": {},
   "source": [
    "As for the radiative processes, we can pass an array of frequency and obtain an array of opacity values, $\\tau_{\\gamma\\gamma}$."
   ]
  },
  {
   "cell_type": "code",
   "execution_count": null,
   "id": "16b3d670",
   "metadata": {},
   "outputs": [],
   "source": [
    "nu = np.logspace(24, 30, 100) * u.Hz\n",
    "\n",
    "tau_H_beta = abs_H_beta.tau(nu)\n",
    "tau_Ly_alpha = abs_Ly_alpha.tau(nu)\n",
    "tau_H_alpha = abs_H_alpha.tau(nu)"
   ]
  },
  {
   "cell_type": "code",
   "execution_count": null,
   "id": "c4b558bd",
   "metadata": {},
   "outputs": [],
   "source": [
    "plt.loglog(nu, tau_H_beta, color=\"crimson\", ls=\"--\", label=r\"${\\rm H\\beta}$\")\n",
    "plt.loglog(nu, tau_Ly_alpha, color=\"dodgerblue\", ls=\"--\", label=r\"${\\rm Ly\\alpha}$\")\n",
    "plt.loglog(nu, tau_H_alpha, color=\"goldenrod\", ls=\"--\", label=r\"${\\rm H\\alpha}$\")\n",
    "\n",
    "plt.xlabel(sed_x_label)\n",
    "plt.ylabel(tau_label)\n",
    "plt.legend()\n",
    "plt.show()"
   ]
  },
  {
   "cell_type": "markdown",
   "id": "30f9314e",
   "metadata": {},
   "source": [
    "The current BLR absorption calculation code is prone to numerical instabilities because of the used integration scheme. PR #133 will improve the situation. As a good practice you should calculate also absorption for a slightly different (a few per cent) distance and see if you get consistent results). "
   ]
  },
  {
   "cell_type": "markdown",
   "id": "8d363030",
   "metadata": {},
   "source": [
    "Let us also add a dust torus and compute the absorption on its photon field."
   ]
  },
  {
   "cell_type": "code",
   "execution_count": null,
   "id": "aee62bc0",
   "metadata": {},
   "outputs": [],
   "source": [
    "# dust torus definition\n",
    "L_disk = 2 * 1e46 * u.Unit(\"erg s-1\")\n",
    "csi_dt = 0.1\n",
    "T_dt = 1e3 * u.K\n",
    "\n",
    "dt = RingDustTorus(L_disk, csi_dt, T_dt)\n",
    "\n",
    "# dust torus absorption\n",
    "abs_dt = Absorption(dt, r=r, z=z)\n",
    "tau_dt = abs_dt.tau(nu)"
   ]
  },
  {
   "cell_type": "markdown",
   "id": "e1559398",
   "metadata": {},
   "source": [
    "Plot the opacity due to the photon fields external to the blob."
   ]
  },
  {
   "cell_type": "code",
   "execution_count": null,
   "id": "fc178813",
   "metadata": {},
   "outputs": [],
   "source": [
    "tau_ext = tau_H_beta + tau_Ly_alpha + tau_H_alpha + tau_dt\n",
    "\n",
    "plt.loglog(nu, tau_H_beta, color=\"crimson\", ls=\"--\", label=r\"${\\rm H\\beta}$\")\n",
    "plt.loglog(nu, tau_Ly_alpha, color=\"dodgerblue\", ls=\"--\", label=r\"${\\rm Ly\\alpha}$\")\n",
    "plt.loglog(nu, tau_H_alpha, color=\"goldenrod\", ls=\"--\", label=r\"${\\rm H\\alpha}$\")\n",
    "plt.loglog(nu, tau_dt, color=\"lightseagreen\", ls=\"--\", label=\"DT\")\n",
    "plt.loglog(nu, tau_ext, lw=2, color=\"k\", label=\"total external\")\n",
    "plt.fill_between(\n",
    "    nu.to_value(\"Hz\"), np.zeros_like(nu), tau_ext, alpha=0.6, color=\"darkgray\"\n",
    ")\n",
    "\n",
    "plt.xlabel(sed_x_label)\n",
    "plt.ylabel(tau_label)\n",
    "plt.legend(fontsize=11)\n",
    "plt.show()"
   ]
  },
  {
   "cell_type": "markdown",
   "id": "c4f68eef",
   "metadata": {},
   "source": [
    "## 5.2. Opacity of photon fields internal to the blob\n",
    "\n",
    "`agnpy` can also compute the $\\gamma\\gamma$ opacity due to photon fields internal to the blob, specifically to synchrotron radiation. To do it we just have to pass a `Blob` instance to the `Absorption` class."
   ]
  },
  {
   "cell_type": "code",
   "execution_count": null,
   "id": "d5c65e65",
   "metadata": {},
   "outputs": [],
   "source": [
    "# let us use a Blob with a simple power law of electrons just as an illustrative example\n",
    "n_e = PowerLaw(k=1e-4 * u.Unit(\"cm-3\"), p=2.8, gamma_min=1e2, gamma_max=1e7)\n",
    "\n",
    "blob = Blob(n_e=n_e)\n",
    "\n",
    "abs_synch = Absorption(blob)\n",
    "\n",
    "tau_synch = abs_synch.tau(nu)"
   ]
  },
  {
   "cell_type": "code",
   "execution_count": null,
   "id": "a479ed17",
   "metadata": {},
   "outputs": [],
   "source": [
    "plt.loglog(nu, tau_synch, color=\"k\", label=\"synchrotron\")\n",
    "plt.fill_between(\n",
    "    nu.to_value(\"Hz\"), np.zeros_like(nu), tau_synch, alpha=0.6, color=\"darkgray\"\n",
    ")\n",
    "\n",
    "plt.xlabel(sed_x_label)\n",
    "plt.ylabel(tau_label)\n",
    "plt.legend(fontsize=11)\n",
    "plt.show()"
   ]
  },
  {
   "cell_type": "markdown",
   "id": "9c1d8eab",
   "metadata": {},
   "source": [
    "## 5.3. Attenuation factor\n",
    "\n",
    "We note that **internal and external absorption correspond to different attenuation factors of the final photon spectrum**, in particular, for photon fields external to the blob we have an attenuation factor: \n",
    "\n",
    "$$\\exp(-\\tau_{\\gamma\\gamma}),$$\n",
    "\n",
    "while, for photon fields internal to the blob we have an attenuation factor\n",
    "\n",
    "$$\\frac{1 - \\exp(-\\tau_{\\gamma\\gamma})}{\\tau_{\\gamma\\gamma}}.$$\n",
    "\n",
    "The reason is that \"external\" absorption is affecting all the photons in the same way, while the \"internal\" absorption will absorb more or less strongly depending if the photon is emitted more in the middle or close to the edge of the emission region. \n",
    "Let's compare how the two look like for the same optical depth $\\tau$"
   ]
  },
  {
   "cell_type": "code",
   "execution_count": null,
   "id": "f4e2b3cf",
   "metadata": {},
   "outputs": [],
   "source": [
    "taus=np.logspace(-1,1)\n",
    "plt.loglog(taus, np.exp(-taus), label=\"external\")\n",
    "plt.loglog(taus, (1-np.exp(-taus))/taus, label=\"internal\")\n",
    "plt.legend()\n",
    "plt.ylabel(\"attenuation\")\n",
    "plt.xlabel(\"optical depth\")\n",
    "\n",
    "plt.ylim([3e-5, 1.1])\n",
    "plt.show()"
   ]
  },
  {
   "cell_type": "markdown",
   "id": "e7ded6a0",
   "metadata": {},
   "source": [
    "`agnpy` directly allows to compute these factors through the `Absorption.absorption` and `Absorption.absorption_homogeneous` methods. We can therefore see the actual impact of internal and external photon fields on the final high-energy spectrum."
   ]
  },
  {
   "cell_type": "code",
   "execution_count": null,
   "id": "47287fb4",
   "metadata": {},
   "outputs": [],
   "source": [
    "# for the external absorption we multiply all the absorption factors\n",
    "# (we are summing the taus)\n",
    "abs_ext = (\n",
    "    abs_H_beta.absorption(nu)\n",
    "    * abs_Ly_alpha.absorption(nu)\n",
    "    * abs_H_alpha.absorption(nu)\n",
    "    * abs_dt.absorption(nu)\n",
    ")\n",
    "\n",
    "# internal absorption\n",
    "abs_int = abs_synch.absorption_homogeneous(nu)"
   ]
  },
  {
   "cell_type": "code",
   "execution_count": null,
   "id": "a1d12292",
   "metadata": {},
   "outputs": [],
   "source": [
    "plt.loglog(nu, abs_ext, color=\"crimson\", label=\"external\")\n",
    "plt.loglog(nu, abs_int, color=\"dodgerblue\", label=\"internal\")\n",
    "\n",
    "plt.legend()\n",
    "plt.ylabel(\"attenuation\")\n",
    "plt.xlabel(sed_x_label)\n",
    "\n",
    "plt.ylim([1e-6, 1e1])\n",
    "plt.show()"
   ]
  },
  {
   "cell_type": "markdown",
   "id": "da8f102e",
   "metadata": {},
   "source": [
    "As we can see, for the distance of the blob from the central source we selected (blob inside the BLR), the spectrum would start to be strongly absorbed at $\\approx 3\\times10^{24}\\,{\\rm Hz} = 12.4\\,{\\rm GeV}$."
   ]
  },
  {
   "cell_type": "markdown",
   "id": "8eaed41a",
   "metadata": {},
   "source": [
    "## 5.4. Exercises"
   ]
  },
  {
   "cell_type": "markdown",
   "id": "024a3fed",
   "metadata": {},
   "source": [
    "### 5.4.1 Approximating the BLR with a point-like monochromatic source\n",
    "For a very large distance form the BH, $r=10^{20}\\,{\\rm cm}$, approximate the absorption on the ${\\rm Ly \\alpha}$ BLR with the one produced by a point-like emitter behind the blob. \n",
    "\n",
    "**Note** for a viewing angle $\\theta_{\\rm s}\\rightarrow 0$ (i.e. for a blazar) the absorption on a point-like source is $0$ (there is a factor $1-\\cos\\theta_{\\rm s}$ that becomes null in the absorption formula). Assume for this problem a viewing angle of $10\\,{\\rm deg}$; note there is an extra argument in the `Absorption` class to account for the viewing angle."
   ]
  }
 ],
 "metadata": {
  "kernelspec": {
   "display_name": "Python 3 (ipykernel)",
   "language": "python",
   "name": "python3"
  },
  "language_info": {
   "codemirror_mode": {
    "name": "ipython",
    "version": 3
   },
   "file_extension": ".py",
   "mimetype": "text/x-python",
   "name": "python",
   "nbconvert_exporter": "python",
   "pygments_lexer": "ipython3",
   "version": "3.9.18"
  }
 },
 "nbformat": 4,
 "nbformat_minor": 5
}
