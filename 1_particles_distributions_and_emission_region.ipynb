{
 "cells": [
  {
   "cell_type": "markdown",
   "id": "4064b187",
   "metadata": {},
   "source": [
    "# 1. Particles distribution and Emission region\n",
    "\n",
    "In this tutorial, we describe the non-thermal particle distributions available in `agnpy` and illustrate how to define the region containing and accelerating them, usually referred to as _emission_ region."
   ]
  },
  {
   "cell_type": "code",
   "execution_count": null,
   "id": "ef479077",
   "metadata": {},
   "outputs": [],
   "source": [
    "# import numpy, astropy and matplotlib for basic functionalities\n",
    "import numpy as np\n",
    "import astropy.units as u\n",
    "from astropy.constants import m_e, m_p, c\n",
    "from astropy.coordinates import Distance\n",
    "import matplotlib.pyplot as plt"
   ]
  },
  {
   "cell_type": "code",
   "execution_count": null,
   "id": "ad5f8c3c",
   "metadata": {},
   "outputs": [],
   "source": [
    "# import agnpy classes\n",
    "from agnpy.spectra import PowerLaw, BrokenPowerLaw, LogParabola\n",
    "from agnpy.emission_regions import Blob\n",
    "from agnpy.utils.plot import load_mpl_rc\n",
    "\n",
    "load_mpl_rc()  # adopt agnpy plotting style"
   ]
  },
  {
   "cell_type": "markdown",
   "id": "12e640e6",
   "metadata": {},
   "source": [
    "## 1.1. Definition of particles distributions\n",
    "\n",
    "The `agnpy.spectra` module provides classes describing the energy distributions of particles accelerated in the jets. The energy distribution is commonly represented by an analytical function, usually a power law (and its broken, curved, and cut-off variations), returning the volume density of particles, $n [{\\rm cm}]^{-3}$, as a function of their Lorentz factor, $\\gamma$. For the simplest power law:\n",
    "\n",
    "\\begin{equation}\n",
    "n(\\gamma) = k\\,\\gamma^{-p} \\, H(\\gamma; \\gamma_{\\rm min}, \\gamma_{\\rm max}),\n",
    "\\end{equation}\n",
    "\n",
    "where $k$, the amplitude, is a density of particles in ${\\rm cm}^{-3}$, $p$ is the spectral index, and the Heaviside function ensures null values outside the range $[\\gamma_{\\rm min}, \\gamma_{\\rm max}]$. Several analytical functions are available, along with a function that interpolates an series of $n [{\\rm cm}]^{-3}$ values.\n",
    "\n",
    "We illustrate, in the following, how to declare an electron and a proton particle distributions"
   ]
  },
  {
   "cell_type": "code",
   "execution_count": null,
   "id": "40707fbc",
   "metadata": {},
   "outputs": [],
   "source": [
    "# define an electron distribution\n",
    "n_e = BrokenPowerLaw(\n",
    "    k=1e-8 * u.Unit(\"cm-3\"),\n",
    "    p1=1.9,\n",
    "    p2=2.6,\n",
    "    gamma_b=1e4,\n",
    "    gamma_min=10,\n",
    "    gamma_max=1e6,\n",
    "    mass=m_e,\n",
    ")\n",
    "\n",
    "# define a proton distribution\n",
    "n_p = PowerLaw(k=0.1 * u.Unit(\"cm-3\"), p=2.3, gamma_min=10, gamma_max=1e6, mass=m_p)"
   ]
  },
  {
   "cell_type": "markdown",
   "id": "59d9e938",
   "metadata": {},
   "source": [
    "As we can see, the parameter `mass` distinguishes the particle type."
   ]
  },
  {
   "cell_type": "code",
   "execution_count": null,
   "id": "8aa8bfc7",
   "metadata": {},
   "outputs": [],
   "source": [
    "# we can plot the particles distribution defined above\n",
    "# we can represent them multiplied by an arbitrary power of gamma\n",
    "fig, ax = plt.subplots()\n",
    "\n",
    "n_e.plot(ax=ax, gamma_power=2, label=\"electrons\")\n",
    "n_p.plot(ax=ax, gamma_power=2, label=\"protons\")\n",
    "\n",
    "ax.legend()\n",
    "plt.show()"
   ]
  },
  {
   "cell_type": "markdown",
   "id": "5eaf809e",
   "metadata": {},
   "source": [
    "## 1.1.1. Different methods to initialise the particle distribution (optional)\n",
    "Authors use different approaches to define the particles distribution $n(\\gamma)$.\n",
    "A __normalisation__ of the distribution is often provided, which can be of different types.\n",
    "\n",
    "Some authors use an _integral_ normalisation. That is, the normalisation value provided might represent:\n",
    "\n",
    "- the total volume density, $n_{\\rm tot} = \\int {\\rm d \\gamma} \\, n(\\gamma)$, in ${\\rm cm}^{-3}$;\n",
    "- the total energy density, $u_{\\rm tot} =  m c^2 \\int {\\rm d \\gamma} \\, \\gamma \\, n(\\gamma)$, in ${\\rm erg}\\,{\\rm cm}^{-3}$;\n",
    "- the total energy in particles, $W = m c^2 \\, \\int {\\rm d \\gamma} \\, \\gamma \\, N(\\gamma)$, in ${\\rm erg}$.\n",
    "\n",
    "Where, in the last expression $N$, is the number density ($N = V_b n$).\n",
    "\n",
    "Others authors use a *differential* normalisation, that is, the normalisation value provided directly represents the constant, $k$, multiplying the analytical function.\n",
    "\n",
    "Finally, some authors use a normalisation *at* $\\gamma=1$, that means the normalisation value provided represents\n",
    "the value of the denisty at $\\gamma=1$.\n",
    "\n",
    "We offer all of the aforementioned alternatives to initialise a particles distribution in `agnpy`.\n",
    "**If you use agnpy for publications you should specify what is the definition of normalization that you are using.**\n",
    "Here follows an example illustrating them:"
   ]
  },
  {
   "cell_type": "code",
   "execution_count": null,
   "id": "2584d466",
   "metadata": {},
   "outputs": [],
   "source": [
    "# initialise the electron distribution, let us use the same spectral parameters\n",
    "# for all the distributions\n",
    "p = 2.3\n",
    "q = 0.2\n",
    "gamma_0 = 1e3\n",
    "gamma_min = 1\n",
    "gamma_max = 1e6\n",
    "\n",
    "# - from total density\n",
    "n_tot = 1e-3 * u.Unit(\"cm-3\")\n",
    "\n",
    "n_1 = LogParabola.from_total_density(\n",
    "    n_tot, p=p, q=q, gamma_0=gamma_0, gamma_min=gamma_min, gamma_max=gamma_max, mass=m_e\n",
    ")\n",
    "\n",
    "# check total volume density\n",
    "gamma = np.logspace(0, 7)\n",
    "integral = np.trapz(n_1(gamma), gamma)\n",
    "print(f\"{integral:.2e}\")"
   ]
  },
  {
   "cell_type": "code",
   "execution_count": null,
   "id": "dcbc64f6",
   "metadata": {},
   "outputs": [],
   "source": [
    "# - from total energy density\n",
    "u_tot = 1e-8 * u.Unit(\"erg cm-3\")\n",
    "\n",
    "n_2 = LogParabola.from_total_energy_density(\n",
    "    u_tot, p=p, q=q, gamma_0=gamma_0, gamma_min=gamma_min, gamma_max=gamma_max, mass=m_e\n",
    ")\n",
    "\n",
    "# check total energy density\n",
    "integral = m_e * c**2 * np.trapz(gamma * n_2(gamma), gamma)\n",
    "print(f\"{integral.to('erg cm-3'):.2e}\")"
   ]
  },
  {
   "cell_type": "code",
   "execution_count": null,
   "id": "7ee177d1",
   "metadata": {},
   "outputs": [],
   "source": [
    "# - from total energy, we need also the volume to convert to an energy density\n",
    "W = 1e40 * u.erg\n",
    "V_b = 4 / 3 * np.pi * (1e16 * u.cm) ** 3\n",
    "\n",
    "n_3 = LogParabola.from_total_energy(\n",
    "    W,\n",
    "    V_b,\n",
    "    p=p,\n",
    "    q=q,\n",
    "    gamma_0=gamma_0,\n",
    "    gamma_min=gamma_min,\n",
    "    gamma_max=gamma_max,\n",
    "    mass=m_e,\n",
    ")\n",
    "\n",
    "# check total energy density\n",
    "integral = V_b * m_e * c**2 * np.trapz(gamma * n_3(gamma), gamma)\n",
    "print(f\"{integral.to('erg'):.2e}\")"
   ]
  },
  {
   "cell_type": "code",
   "execution_count": null,
   "id": "76db4bbf",
   "metadata": {},
   "outputs": [],
   "source": [
    "# - from the denisty at gamma = 1\n",
    "n_gamma_1 = 1e-4 * u.Unit(\"cm-3\")\n",
    "\n",
    "n_4 = LogParabola.from_density_at_gamma_1(\n",
    "    n_gamma_1,\n",
    "    p=p,\n",
    "    q=q,\n",
    "    gamma_0=gamma_0,\n",
    "    gamma_min=gamma_min,\n",
    "    gamma_max=gamma_max,\n",
    "    mass=m_e,\n",
    ")\n",
    "\n",
    "# check the distribution at gamma=1\n",
    "print(n_4(1))"
   ]
  },
  {
   "cell_type": "code",
   "execution_count": null,
   "id": "dc9f8bb8",
   "metadata": {},
   "outputs": [],
   "source": [
    "# let us plot all the particles distributions\n",
    "fig, ax = plt.subplots()\n",
    "\n",
    "n_1.plot(ax=ax, gamma_power=2, label=\"from \" + r\"$n_{\\rm tot}$\")\n",
    "n_2.plot(ax=ax, gamma_power=2, label=\"from \" + r\"$u_{\\rm tot}$\")\n",
    "n_3.plot(ax=ax, gamma_power=2, label=\"from \" + r\"$W$\")\n",
    "n_4.plot(ax=ax, gamma_power=2, label=\"from \" + r\"$n(\\gamma=1)$\")\n",
    "\n",
    "ax.legend()\n",
    "plt.show()"
   ]
  },
  {
   "cell_type": "markdown",
   "id": "9865fe32",
   "metadata": {},
   "source": [
    "## 1.2. Definition of the emission region"
   ]
  },
  {
   "cell_type": "markdown",
   "id": "3e34975a",
   "metadata": {},
   "source": [
    "The only emission region currently available in the package is a simple spherical plasmoid, commonly referred to as _blob_ in the literature.\n",
    "\n",
    "The blob represents a spherical region of plasma streaming along the jet.\n",
    "The physical quantities _needed_ to define the `~agnpy.emission_regions.Blob` are:\n",
    "\n",
    "- its radius, $R_{\\rm b}$;\n",
    "- its distance from the observer, expressed through the redshift $z$ of the host galaxy;\n",
    "- the Doppler factor produced by the motion of the jet, $\\delta_{\\rm D} = \\frac{1}{\\Gamma(1 - \\beta\\cos(\\theta_{\\rm s}))}$. Where $\\beta$ is the blob relativistic velocity, $\\Gamma$ its bulk Lorentz factor, and $\\theta_{\\rm s}$ the angle between the jet axis and the observer's line of sight;\n",
    "- the bulk Lorentz factor of the jet, $\\Gamma$;\n",
    "- the magnetic field tangled to the blob, $B$, assumed to be uniform; \n",
    "- the energy distributions of particles accelerated in the blob.\n",
    "\n",
    "Note that the radius, magnetic field and energy distribution of particles are expressed in the blob's rest frame.\n",
    "\n",
    "Follows a snippet initialising the `Blob` with its physical quantities and an electrons distribution."
   ]
  },
  {
   "cell_type": "code",
   "execution_count": null,
   "id": "34063549",
   "metadata": {},
   "outputs": [],
   "source": [
    "# set the quantities defining the blob\n",
    "R_b = 1e16 * u.cm\n",
    "z = Distance(1e27, unit=u.cm).z\n",
    "delta_D = 10\n",
    "Gamma = 10\n",
    "B = 1 * u.G\n",
    "\n",
    "# electron distribution\n",
    "n_e = BrokenPowerLaw(\n",
    "    k=1e-8 * u.Unit(\"cm-3\"),\n",
    "    p1=1.9,\n",
    "    p2=2.6,\n",
    "    gamma_b=1e4,\n",
    "    gamma_min=10,\n",
    "    gamma_max=1e6,\n",
    "    mass=m_e,\n",
    ")\n",
    "\n",
    "blob = Blob(R_b, z, delta_D, Gamma, B, n_e=n_e)"
   ]
  },
  {
   "cell_type": "code",
   "execution_count": null,
   "id": "3c6f72a2",
   "metadata": {},
   "outputs": [],
   "source": [
    "# we can always print the blob to check the quantities initialised\n",
    "print(blob)"
   ]
  },
  {
   "cell_type": "markdown",
   "id": "1bb493bd",
   "metadata": {},
   "source": [
    "we can also add a proton distribution to the blob"
   ]
  },
  {
   "cell_type": "code",
   "execution_count": null,
   "id": "205a1f07",
   "metadata": {},
   "outputs": [],
   "source": [
    "# add a proton energy distribution\n",
    "n_p = PowerLaw(k=0.1 * u.Unit(\"cm-3\"), p=2.3, gamma_min=10, gamma_max=1e6, mass=m_p)\n",
    "blob = Blob(R_b, z, delta_D, Gamma, B, n_e=n_e, n_p=n_p)\n",
    "\n",
    "print(blob)"
   ]
  },
  {
   "cell_type": "markdown",
   "id": "8dc08833",
   "metadata": {},
   "source": [
    "The blob instance contains more quantities than those we specified to initialize it. Once created, we can check, for example:"
   ]
  },
  {
   "cell_type": "code",
   "execution_count": null,
   "id": "5448ed79",
   "metadata": {},
   "outputs": [],
   "source": [
    "print(\"total particle number:\", f\"{blob.N_e_tot:.2e}\")\n",
    "print(\"total particle density:\", f\"{blob.n_e_tot:.2e}\")\n",
    "print(\"total energy in electrons:\", f\"{blob.W_e:.2e}\")\n",
    "print(\"total energy in protons:\", f\"{blob.W_p:.2e}\")"
   ]
  },
  {
   "cell_type": "markdown",
   "id": "021b8ca3",
   "metadata": {},
   "source": [
    "We can also check the jet power in  kinetic energy of the particles $P_{\\rm jet, ke}$ and in magnetic field $P_{\\rm jet, B}$ (the power needed to expel a magnetic-field-laden plasma). The equilibrium between these two quantities defines a condition referred to as *equipartition*."
   ]
  },
  {
   "cell_type": "code",
   "execution_count": null,
   "id": "2e5c9495",
   "metadata": {},
   "outputs": [],
   "source": [
    "blob.P_jet_ke"
   ]
  },
  {
   "cell_type": "code",
   "execution_count": null,
   "id": "77acd4c1",
   "metadata": {},
   "outputs": [],
   "source": [
    "blob.P_jet_B"
   ]
  },
  {
   "cell_type": "code",
   "execution_count": null,
   "id": "76ca195d",
   "metadata": {},
   "outputs": [],
   "source": []
  }
 ],
 "metadata": {
  "kernelspec": {
   "display_name": "Python 3 (ipykernel)",
   "language": "python",
   "name": "python3"
  },
  "language_info": {
   "codemirror_mode": {
    "name": "ipython",
    "version": 3
   },
   "file_extension": ".py",
   "mimetype": "text/x-python",
   "name": "python",
   "nbconvert_exporter": "python",
   "pygments_lexer": "ipython3",
   "version": "3.9.18"
  }
 },
 "nbformat": 4,
 "nbformat_minor": 5
}
