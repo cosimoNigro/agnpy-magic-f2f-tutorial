{
 "cells": [
  {
   "cell_type": "markdown",
   "metadata": {},
   "source": [
    "# 2. Energy densities of the target photon fields\n",
    "\n",
    "Beside describing non-thermal emitters, `agnpy` contains classes describing the line and thermal emitters of the AGN. They are gathered in the `agnpy.targets` module, as they represent target both for the *External Compton* and the $\\gamma\\gamma$ absorption processes.\n",
    "\n",
    "In this tutorial, we will briefly examine the available targets and will compute their integral energy densities, $u [{\\rm erg}\\,{\\rm cm}^{-3}]$, as a function of the distance from the jet axis."
   ]
  },
  {
   "cell_type": "code",
   "execution_count": null,
   "metadata": {},
   "outputs": [],
   "source": [
    "# import numpy, astropy and matplotlib for basic functionalities\n",
    "import numpy as np\n",
    "import astropy.units as u\n",
    "from astropy.constants import M_sun\n",
    "from astropy.coordinates import Distance\n",
    "import matplotlib.pyplot as plt"
   ]
  },
  {
   "cell_type": "code",
   "execution_count": null,
   "metadata": {},
   "outputs": [],
   "source": [
    "# import agnpy classes\n",
    "from agnpy.spectra import PowerLaw\n",
    "from agnpy.emission_regions import Blob\n",
    "from agnpy.targets import (\n",
    "    CMB,\n",
    "    PointSourceBehindJet,\n",
    "    SSDisk,\n",
    "    SphericalShellBLR,\n",
    "    RingDustTorus,\n",
    ")\n",
    "from agnpy.utils.plot import plot_sed, load_mpl_rc\n",
    "\n",
    "load_mpl_rc()\n",
    "u_label = r\"$u\\,/\\,{\\rm erg}\\,{\\rm cm}^{-3}$\"\n",
    "u_prime_label = r\"$u'\\,/\\,{\\rm erg}\\,{\\rm cm}^{-3}$\"\n",
    "r_label = r\"$r\\,/\\,{\\rm cm}$\""
   ]
  },
  {
   "cell_type": "markdown",
   "metadata": {},
   "source": [
    "## 2.1. Targets available in `agnpy`\n",
    "\n",
    "The following emitters are implemented in `agnpy.targets`:\n",
    "\n",
    "* `CMB`, representing the cosmic microwave background; \n",
    "* `PointSourceBehindJet`, representing a monochromatic point-like source behind the jet, to be used mostly for consistency checks;\n",
    "* `SSDisk`, representing a [Shakura & Sunyaev (1973)](https://ui.adsabs.harvard.edu/abs/1973A%26A....24..337S/abstract) accretion disc, modeled as a geometrically thin disk whose emission is parameterized following [Dermer & Schlickeiser (2002)](https://ui.adsabs.harvard.edu/abs/2002ApJ...575..667D/abstract) and [Dermer et al. (2009)](https://ui.adsabs.harvard.edu/abs/2009herb.book.....D/abstract); \n",
    "* `SphericalShellBLR`, representing a broad line region (BLR) simplified to an infinitesimally thin sphere reprocessing a fraction of the disc radiation in a monochromatic (line) emission (as in [Finke 2016](https://ui.adsabs.harvard.edu/abs/2016ApJ...830...94F/abstract));\n",
    "* `RingDustTorus`, representing a dust torus (DT), simplified to a ring reprocessing a fraction of the disc radiation in a single-temperature black body (BB) emission (as in [Finke 2016](https://ui.adsabs.harvard.edu/abs/2016ApJ...830...94F/abstract))."
   ]
  },
  {
   "cell_type": "markdown",
   "metadata": {},
   "source": [
    "### 2.1.1. Shakura Sunyaev accretion disk\n",
    "\n",
    "In order to define an accretion disk, we need to specify:\n",
    "* the mass of its central black hole $M_{\\rm BH}$;\n",
    "* its total luminosity $L_{\\rm disk}$;\n",
    "* the fraction of gravitational energy converted to radiant energy $\\eta$;\n",
    "* the inner and outer radii, $R_{\\rm in}$ and $R_{\\rm out}$. We can express them directly as quantities in `cm`, or in units of the BH gravitational radius, $R_{\\rm g}$."
   ]
  },
  {
   "cell_type": "code",
   "execution_count": null,
   "metadata": {},
   "outputs": [],
   "source": [
    "M_BH = 1.2 * 1e9 * M_sun\n",
    "L_disk = 2e46 * u.Unit(\"erg s-1\")\n",
    "eta = 1 / 12\n",
    "R_tilde_in = 6\n",
    "R_tilde_out = 200\n",
    "\n",
    "disk = SSDisk(M_BH, L_disk, eta, R_tilde_in, R_tilde_out, R_g_units=True)"
   ]
  },
  {
   "cell_type": "markdown",
   "metadata": {},
   "source": [
    "All the emitters in `agnpy` can be printed."
   ]
  },
  {
   "cell_type": "code",
   "execution_count": null,
   "metadata": {},
   "outputs": [],
   "source": [
    "print(disk)"
   ]
  },
  {
   "cell_type": "markdown",
   "metadata": {},
   "source": [
    "### 2.1.2. BLR\n",
    "The BLR can be initialized specifying: \n",
    "* the luminosity of the disk whose radiation is being reprocessed, $L_{\\rm disk}$; \n",
    "* the fraction of radiation reprocessed, $\\xi_{\\rm line}$; \n",
    "* the type of line emitted; \n",
    "* the radius at which the line is emitted, $R_{\\rm line}$."
   ]
  },
  {
   "cell_type": "code",
   "execution_count": null,
   "metadata": {},
   "outputs": [],
   "source": [
    "# quantities defining the BLR\n",
    "xi_line = 0.024\n",
    "R_line = 1.1e17 * u.cm\n",
    "\n",
    "blr = SphericalShellBLR(L_disk, xi_line, \"Lyalpha\", R_line)\n",
    "\n",
    "print(blr)"
   ]
  },
  {
   "cell_type": "markdown",
   "metadata": {},
   "source": [
    "In `agnpy`, all the emission lines of the emission lines of the stratified BLR model in [Finke\n",
    "(2016)](https://ui.adsabs.harvard.edu/abs/2016ApJ...830...94F/abstract) are made available. They can be listed via the `SphericalShellBLR.print_lines_list()` function."
   ]
  },
  {
   "cell_type": "code",
   "execution_count": null,
   "metadata": {},
   "outputs": [],
   "source": [
    "SphericalShellBLR.print_lines_list()"
   ]
  },
  {
   "cell_type": "markdown",
   "metadata": {},
   "source": [
    "The shell emitting the $H\\beta$ line (`\"Hbeta\"`) serves as a reference and all the other shells have luminosities and radii expressed as a fraction of the luminosity and radius of the $H\\beta$-emitting one. "
   ]
  },
  {
   "cell_type": "markdown",
   "metadata": {},
   "source": [
    "### 2.1.3. Dust torus\n",
    "The DT can be initialized specifying:\n",
    "* the luminosity of the disk whose radiation is being reprocessed, $L_{\\rm disk}$; \n",
    "* the fraction of radiation reprocessed, $\\xi_{\\rm DT}$;\n",
    "* the temperature where the black-body spectrum peaks, $T_{\\rm DT}$; \n",
    "* the radius of the ring representing the torus, $R_{\\rm DT}$. \n",
    "The latter is optional and if not specified will be automatically set at the sublimation radius (Eq. 96 in [Finke (2016)](https://ui.adsabs.harvard.edu/abs/2016ApJ...830...94F/abstract)). \n",
    "\n",
    "Let us considering a DT reprocessing the disk luminosity in the infrared ($T_{\\rm DT}=1000\\,{\\rm K}$)."
   ]
  },
  {
   "cell_type": "code",
   "execution_count": null,
   "metadata": {},
   "outputs": [],
   "source": [
    "# quantities defining the DT\n",
    "T_dt = 1e3 * u.K\n",
    "xi_dt = 0.1\n",
    "\n",
    "dt = RingDustTorus(L_disk, xi_dt, T_dt)\n",
    "\n",
    "print(dt)"
   ]
  },
  {
   "cell_type": "markdown",
   "metadata": {},
   "source": [
    "## 2.2. Energy densities\n",
    "\n",
    "For some jetted AGN such as Flat Spectrum Radio Quasars (FSRQs) the high-energy emission (X to gamma rays) is attributed to Compton scattering of photon fields external to the jet (e.g. BLR, DT) that are very dense in quasars. As the blob might be located at different distances from the central BH, hence in different regions of these photon fields, it is valuable to evaluate their density as a function of the distance along the jet axis - see the discussion in [Ghisellini (2009)](https://ui.adsabs.harvard.edu/abs/2009MNRAS.397..985G/abstract).\n",
    "\n",
    "For this purpose, in `agnpy`, each target has a function returning its (integral) energy density $u [{\\rm erg}\\,{\\rm cm}^{-3}]$, as a function of the distance from the jet axis. Let us plot the energy densities of the targets we created."
   ]
  },
  {
   "cell_type": "code",
   "execution_count": null,
   "metadata": {},
   "outputs": [],
   "source": [
    "r = np.logspace(15, 21) * u.cm\n",
    "\n",
    "u_disk = disk.u(r)\n",
    "u_blr = blr.u(r)\n",
    "u_dt = dt.u(r)"
   ]
  },
  {
   "cell_type": "code",
   "execution_count": null,
   "metadata": {},
   "outputs": [],
   "source": [
    "plt.loglog(r, u_disk, color=\"k\", label=\"Disk\")\n",
    "plt.loglog(r, u_blr, color=\"crimson\", label=\"BLR\")\n",
    "plt.loglog(r, u_dt, color=\"dodgerblue\", label=\"DT\")\n",
    "\n",
    "plt.legend(fontsize=11)\n",
    "\n",
    "plt.xlabel(r_label)\n",
    "plt.ylabel(u_label)\n",
    "\n",
    "plt.show()"
   ]
  },
  {
   "cell_type": "markdown",
   "metadata": {},
   "source": [
    "The disk is so bright it overshines the photon fields of the two emitters pretty much at all distances.\n",
    "\n",
    "This is true in the reference frame fixed at the galaxy center, what happens if we transform these energy densities to the reference frame of a blob streaming along the jet? \n",
    "\n",
    "We can address this question using `agnpy`, let us call again the `targets.u` function, this time passing along the distance, an instance of the `Blob` in which reference frame we want to compute the densities."
   ]
  },
  {
   "cell_type": "code",
   "execution_count": null,
   "metadata": {},
   "outputs": [],
   "source": [
    "# electron distribution\n",
    "n_e = PowerLaw(k=1e-2 * u.Unit(\"cm-3\"), p=2.8, gamma_min=1e2, gamma_max=1e7)\n",
    "\n",
    "# define the emission region and the radiative process\n",
    "blob = Blob(R_b=1e16 * u.cm, z=0.5, delta_D=40, Gamma=40, B=1 * u.G, n_e=n_e)"
   ]
  },
  {
   "cell_type": "code",
   "execution_count": null,
   "metadata": {},
   "outputs": [],
   "source": [
    "# let us recompute the energy densities\n",
    "u_prime_disk = disk.u(r, blob)\n",
    "u_prime_blr = blr.u(r, blob)\n",
    "u_prime_dt = dt.u(r, blob)"
   ]
  },
  {
   "cell_type": "code",
   "execution_count": null,
   "metadata": {},
   "outputs": [],
   "source": [
    "plt.loglog(r, u_prime_disk, color=\"k\", label=\"Disk\")\n",
    "plt.loglog(r, u_prime_blr, color=\"crimson\", label=\"BLR\")\n",
    "plt.loglog(r, u_prime_dt, color=\"dodgerblue\", label=\"DT\")\n",
    "\n",
    "plt.axvline(disk.R_in.to_value(\"cm\"), ls=\"-.\", color=\"k\", label=r\"$r=R_{\\rm in}$\")\n",
    "plt.axvline(disk.R_out.to_value(\"cm\"), ls=\":\", color=\"k\", label=r\"$r=R_{\\rm out}$\")\n",
    "plt.axvline(\n",
    "    blr.R_line.to_value(\"cm\"), ls=\":\", color=\"crimson\", label=r\"$r=R_{\\rm line}$\"\n",
    ")\n",
    "plt.axvline(dt.R_dt.to_value(\"cm\"), ls=\":\", color=\"dodgerblue\", label=r\"$r=R_{\\rm DT}$\")\n",
    "\n",
    "\n",
    "plt.legend(fontsize=11)\n",
    "\n",
    "plt.xlabel(r_label)\n",
    "plt.ylabel(u_prime_label)\n",
    "\n",
    "plt.show()"
   ]
  },
  {
   "cell_type": "markdown",
   "metadata": {},
   "source": [
    "As we expect, the energy density of the field of each component starts to fall as we pass its characteristic size. At a distance $\\sim{\\rm pc}$ away from the BH the only relevant photon field is that of the DT. \n",
    "\n",
    "Is there some other photon field we did not consider?   \n",
    "Yes, externally to the AGN there is the CMB.    \n",
    "Internally to the emission region there is the photon field produced by the synchrotron photons.\n",
    "\n",
    "Let us compute and represent them."
   ]
  },
  {
   "cell_type": "code",
   "execution_count": null,
   "metadata": {},
   "outputs": [],
   "source": [
    "# define the CMB and compute its energy denisty\n",
    "cmb = CMB(z=blob.z)\n",
    "\n",
    "u_prime_cmb = cmb.u(blob)\n",
    "\n",
    "# compute the synchrotron photons energy density, it is an attribute of the Blob\n",
    "u_prime_synch = blob.u_ph_synch"
   ]
  },
  {
   "cell_type": "markdown",
   "metadata": {},
   "source": [
    "Let us plot all of them together."
   ]
  },
  {
   "cell_type": "code",
   "execution_count": null,
   "metadata": {},
   "outputs": [],
   "source": [
    "plt.loglog(r, u_prime_disk, color=\"k\", label=\"Disk\")\n",
    "plt.loglog(r, u_prime_blr, color=\"crimson\", label=\"BLR\")\n",
    "plt.loglog(r, u_prime_dt, color=\"dodgerblue\", label=\"DT\")\n",
    "plt.axhline(u_prime_cmb.to_value(\"erg cm-3\"), ls=\"--\", color=\"goldenrod\", label=\"CMB\")\n",
    "plt.axhline(\n",
    "    u_prime_synch.to_value(\"erg cm-3\"),\n",
    "    ls=\"--\",\n",
    "    color=\"lightseagreen\",\n",
    "    label=\"synchrotron\",\n",
    ")\n",
    "\n",
    "plt.legend(fontsize=11)\n",
    "\n",
    "plt.xlabel(r_label)\n",
    "plt.ylabel(u_prime_label)\n",
    "\n",
    "plt.show()"
   ]
  },
  {
   "cell_type": "markdown",
   "metadata": {},
   "source": [
    "As we can see, beyond $\\sim 100\\,{\\rm pc}$ the CMB is the photon field external to the AGN with the highest energy density."
   ]
  },
  {
   "cell_type": "markdown",
   "metadata": {},
   "source": [
    "## 2.3. Thermal radiation of the emitters\n",
    "\n",
    "The SEDs due to the black-body (BB) emission of the disk and the DT can be computed via the `sed_flux` members of the two classes. A multi-temperature BB is considered for the disk and a simple single-temperature BB for the DT. An array of frequencies over which to compute the SED and the redshift of the galaxy have to be specified to the `sed_flux` function.\n",
    "\n",
    "**Note:** these BB SEDs approximate the actual thermal emission and are conventionally adopted in radio-to-gamma-ray MWL modelling to check the flux level of the thermal components against the dominant non-thermal ones. They are inadequate for precise modelling of the SED of those sources in which the thermal components can be directly observed (in particular non-jetted AGN)."
   ]
  },
  {
   "cell_type": "code",
   "execution_count": null,
   "metadata": {},
   "outputs": [],
   "source": [
    "# array of frequencies to compute the SEDs\n",
    "nu = np.logspace(12, 18, 100) * u.Hz\n",
    "\n",
    "# compute the SEDs\n",
    "disk_bb_sed = disk.sed_flux(nu, z=0.1)\n",
    "dt_bb_sed = dt.sed_flux(nu, z=0.1)\n",
    "\n",
    "# plot them\n",
    "plot_sed(nu, disk_bb_sed, lw=2, label=\"Accretion Disk\")\n",
    "plot_sed(nu, dt_bb_sed, lw=2, label=\"Dust Torus\")\n",
    "plt.ylim([1e-12, 1e-8])\n",
    "plt.show()"
   ]
  },
  {
   "cell_type": "markdown",
   "metadata": {},
   "source": [
    "## 2.4. Exercises"
   ]
  },
  {
   "cell_type": "markdown",
   "metadata": {},
   "source": [
    "### 2.4.1. Compton cooling\n",
    "\n",
    "In the Thomson regime, the Compton energy losses can be expressed via the formula\n",
    "\n",
    "\\begin{equation}\n",
    "\\left(\\frac{{\\rm d}E'}{{\\rm d}t}\\right)_{\\rm cool} = \\frac{4}{3}\\sigma_{\\rm T} c u' \\gamma'^2\n",
    "\\end{equation}\n",
    "\n",
    "where $\\sigma_{\\rm T}$ is the Thomson cross section, $c$ the speed of light, $u'$ the integral energy density, and $\\gamma'$ the Lorentz factor of the electron. Note that all quantities are computed in the reference frame co-moving with the blob.\n",
    "\n",
    "Considering the blob and the emitters we defined, and considering that the electrons are cooling via inverse Compton (either SSC or EC). Considering a fixed energy $\\gamma'$:\n",
    "\n",
    "1. which type of inverse Compton, on which target field, is dominating the cooling at $r=10^{19}\\,{\\rm cm}$?\n",
    "\n",
    "2. and at $r=5 \\times 10^{21}\\,{\\rm cm}$?"
   ]
  },
  {
   "cell_type": "markdown",
   "metadata": {},
   "source": [
    "### 2.4.2. Approximating a photon field with that of a point source behind the jet\n",
    "\n",
    "As explained in the beginning, the point-like source behind the jet (`PointSourceBehindJet`) is mostly used for cross checks.\n",
    "For large distances from the BH, typically much larger than the emitter size, $r >> R_{\\rm emitter}$, the photon field of the emitter can be approximated by the one produced by a point source behind the blob.\n",
    "\n",
    "Show, with a plot, that for distances $r > R_{\\rm line}$, the energy distribution of the BLR in the blob frame ($u'$) tends to the one of a point source approximating it.\n",
    "\n",
    "**Suggestion:** define a `PointSourceBehindJet` with the same luminosity of the BLR and emitting the same energy of the line."
   ]
  }
 ],
 "metadata": {
  "kernelspec": {
   "display_name": "Python 3 (ipykernel)",
   "language": "python",
   "name": "python3"
  },
  "language_info": {
   "codemirror_mode": {
    "name": "ipython",
    "version": 3
   },
   "file_extension": ".py",
   "mimetype": "text/x-python",
   "name": "python",
   "nbconvert_exporter": "python",
   "pygments_lexer": "ipython3",
   "version": "3.9.18"
  }
 },
 "nbformat": 4,
 "nbformat_minor": 4
}
