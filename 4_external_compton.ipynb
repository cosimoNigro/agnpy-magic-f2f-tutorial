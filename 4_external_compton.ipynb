{
 "cells": [
  {
   "cell_type": "markdown",
   "metadata": {},
   "source": [
    "# 4. External Compton\n",
    "\n",
    "In this tutorial, we will show how to compute the Spectral Energy Distribution (SED) produced by the  External Compton (EC) radiative process.\n",
    "\n",
    "Again, we will validate `agnpy`'s results by comparing them against the literature and against another open-source blazar modeling package: [jetset](https://jetset.readthedocs.io/en/1.1.2/)."
   ]
  },
  {
   "cell_type": "code",
   "execution_count": null,
   "metadata": {},
   "outputs": [],
   "source": [
    "# import numpy, astropy and matplotlib for basic functionalities\n",
    "import numpy as np\n",
    "import astropy.units as u\n",
    "from astropy.constants import m_e\n",
    "import pkg_resources\n",
    "import matplotlib.pyplot as plt\n",
    "from IPython.display import Image"
   ]
  },
  {
   "cell_type": "code",
   "execution_count": null,
   "metadata": {},
   "outputs": [],
   "source": [
    "# import agnpy classes\n",
    "from agnpy.spectra import BrokenPowerLaw\n",
    "from agnpy.emission_regions import Blob\n",
    "from agnpy.compton import ExternalCompton\n",
    "from agnpy.targets import SSDisk, SphericalShellBLR, RingDustTorus\n",
    "from agnpy.utils.plot import plot_sed, load_mpl_rc\n",
    "\n",
    "load_mpl_rc()"
   ]
  },
  {
   "cell_type": "markdown",
   "metadata": {},
   "source": [
    "## 4.1. External Compton emission in `agnpy`\n",
    "\n",
    "In order to provide a cross-check with the literature, in this tutorial we will reproduce the results in [Finke (2016)](https://ui.adsabs.harvard.edu/abs/2016ApJ...830...94F/abstract). Therefore we adapt an emission region with the same parameters specified in the paper. In this case we consider a broken power-law to describe the electron distribution."
   ]
  },
  {
   "cell_type": "code",
   "execution_count": null,
   "metadata": {
    "tags": []
   },
   "outputs": [],
   "source": [
    "# blob attributes\n",
    "R_b = 1e16 * u.cm\n",
    "B = 0.56 * u.G\n",
    "z = 1\n",
    "delta_D = 40\n",
    "Gamma = 40\n",
    "\n",
    "# total energy content of the electron distribution\n",
    "W_e = 6e42 * u.Unit(\"erg\")\n",
    "V_b = 4 / 3 * np.pi * R_b**3\n",
    "\n",
    "n_e = BrokenPowerLaw.from_total_energy(\n",
    "    W_e,\n",
    "    V_b,\n",
    "    p1=2.0,\n",
    "    p2=3.5,\n",
    "    gamma_b=1e4,\n",
    "    gamma_min=20,\n",
    "    gamma_max=5e7,\n",
    "    mass=m_e,\n",
    ")\n",
    "\n",
    "# emission region\n",
    "blob = Blob(R_b=R_b, z=z, delta_D=delta_D, Gamma=Gamma, B=B, n_e=n_e)\n",
    "blob.set_gamma_e(400)"
   ]
  },
  {
   "cell_type": "code",
   "execution_count": null,
   "metadata": {},
   "outputs": [],
   "source": [
    "print(blob.n_e_tot)\n",
    "print(blob.Gamma)\n",
    "print(blob.theta_s.value)"
   ]
  },
  {
   "cell_type": "markdown",
   "metadata": {},
   "source": [
    "### 4.1.1 External Compton on Dust Torus and BLR\n",
    "\n",
    "Let us consider, as exemplary cases, EC scattering of the broad line region (BLR) and dust torus (DT) photon fields. Let us define these objects (targets) first."
   ]
  },
  {
   "cell_type": "code",
   "execution_count": null,
   "metadata": {},
   "outputs": [],
   "source": [
    "# luminostiy of the disk being reprocessed by the BLR and DT\n",
    "L_disk = 2 * 1e46 * u.Unit(\"erg s-1\")\n",
    "\n",
    "# broad line region definition\n",
    "xi_line = 0.024\n",
    "R_line = 1e17 * u.cm\n",
    "blr = SphericalShellBLR(L_disk, xi_line, \"Lyalpha\", R_line)\n",
    "\n",
    "# dust torus definition\n",
    "xi_dt = 0.1\n",
    "T_dt = 1e3 * u.K\n",
    "dt = RingDustTorus(L_disk, xi_dt, T_dt)"
   ]
  },
  {
   "cell_type": "markdown",
   "metadata": {},
   "source": [
    "Similarly to the synchrotron and SSC case, to initialize the object that will compute the external Compton (EC) radiation, we simply pass the Blob and the Target objects to the `ExternalCompton` class. **Note in this case the distance r between the target and the emission region (in `astropy.units`) also has to be specified,** as the scattering will also depend on the distance between the electrons and the target photon fields. We will illustrate this effect, let us start very close to the BLR. \n",
    "\n",
    "The distance is specified in units of the radius of the broad line region, that we have modelled as an infinitesimal shell of radius $10^{17}\\,{\\rm cm}$."
   ]
  },
  {
   "cell_type": "code",
   "execution_count": null,
   "metadata": {},
   "outputs": [],
   "source": [
    "r = 2 * R_line\n",
    "\n",
    "ec_blr_near = ExternalCompton(blob, blr, r)\n",
    "ec_dt_near = ExternalCompton(blob, dt, r)"
   ]
  },
  {
   "cell_type": "markdown",
   "metadata": {},
   "source": [
    "Let us compute the SEDs and plot them."
   ]
  },
  {
   "cell_type": "code",
   "execution_count": null,
   "metadata": {},
   "outputs": [],
   "source": [
    "nu = np.logspace(15, 30, 40) * u.Hz\n",
    "\n",
    "sed_ec_blr_near = ec_blr_near.sed_flux(nu)\n",
    "sed_ec_dt_near = ec_dt_near.sed_flux(nu)"
   ]
  },
  {
   "cell_type": "code",
   "execution_count": null,
   "metadata": {},
   "outputs": [],
   "source": [
    "plot_sed(nu, sed_ec_blr_near, color=\"crimson\", label=\"EC on BLR\")\n",
    "plot_sed(nu, sed_ec_dt_near, color=\"dodgerblue\", label=\"EC on DT\")\n",
    "plt.title(\"'near' scenario, \" + r\"$r = 2\\,R_{\\rm BLR}$\")\n",
    "plt.ylim([1e-21, 1e-14])\n",
    "plt.show()"
   ]
  },
  {
   "cell_type": "markdown",
   "metadata": {},
   "source": [
    "Let us move the blob further away from the BLR and recompute the EC scattering SED."
   ]
  },
  {
   "cell_type": "code",
   "execution_count": null,
   "metadata": {},
   "outputs": [],
   "source": [
    "r = 20 * R_line\n",
    "\n",
    "ec_blr_far = ExternalCompton(blob, blr, r)\n",
    "ec_dt_far = ExternalCompton(blob, dt, r)\n",
    "\n",
    "sed_ec_blr_far = ec_blr_far.sed_flux(nu)\n",
    "sed_ec_dt_far = ec_dt_far.sed_flux(nu)\n",
    "\n",
    "print(f\"distance in DT radii: {r / dt.R_dt}\")"
   ]
  },
  {
   "cell_type": "code",
   "execution_count": null,
   "metadata": {},
   "outputs": [],
   "source": [
    "plot_sed(nu, sed_ec_blr_far, color=\"crimson\", label=\"EC on BLR\")\n",
    "plot_sed(nu, sed_ec_dt_far, color=\"dodgerblue\", label=\"EC on DT\")\n",
    "plt.title(\"'far' scenario, \" + r\"$r = 20\\,R_{\\rm line} \\approx 0.1\\,R_{\\rm DT}$\")\n",
    "plt.ylim([1e-21, 1e-14])\n",
    "plt.show()"
   ]
  },
  {
   "cell_type": "markdown",
   "metadata": {},
   "source": [
    "DT radiation field is spread over much larger distance, hence the corresponding SED dropped just slightly. But the larger distance is already way outside of BLR, hence the EC on BLR dropped considerably, making this process subdominant for such a distance.\n",
    "If you model the source as synchr. radiation for low energy bump plus EC as high energy bump, always check the SSC emission - it will automaticaly come out of those assumptions and might have a non negligible contribution in some energy ranges. "
   ]
  },
  {
   "cell_type": "markdown",
   "metadata": {},
   "source": [
    "## 4.2. Validation: compare the result of `agnpy` against the literature and `JetSet`\n",
    "\n",
    "In order to validate `agnpy` we can compare the results of its calculations against the literature and against other software. We choose the EC on DT for validation.\n",
    "\n",
    "For what concerns the literature, we choose to reproduce one of the curves, the one at $r=10^{18}\\,{\\rm cm}$, in Figure 11 of [Finke (2016)](https://ui.adsabs.harvard.edu/abs/2016ApJ...830...94F/abstract)."
   ]
  },
  {
   "cell_type": "code",
   "execution_count": null,
   "metadata": {},
   "outputs": [],
   "source": [
    "url = \"https://raw.githubusercontent.com/cosimoNigro/agnpy/master/docs/tutorials/figures/figure_11_finke_2016.png\"\n",
    "Image(url, width=800, height=600)"
   ]
  },
  {
   "cell_type": "markdown",
   "metadata": {},
   "source": [
    "Compute the EC on DT at $r=10^{18}\\,{\\rm cm}$ with agnpy:"
   ]
  },
  {
   "cell_type": "code",
   "execution_count": null,
   "metadata": {},
   "outputs": [],
   "source": [
    "r = 1e18 * u.cm\n",
    "\n",
    "ec_dt = ExternalCompton(blob, dt, r)\n",
    "sed_ec_dt = ec_dt.sed_flux(nu)"
   ]
  },
  {
   "cell_type": "markdown",
   "metadata": {},
   "source": [
    "The numerical values of the SED in the reference figure are stored in the `agnpy` resources."
   ]
  },
  {
   "cell_type": "code",
   "execution_count": null,
   "metadata": {},
   "outputs": [],
   "source": [
    "# load the SED from the reference figure\n",
    "ec_dt_finke = pkg_resources.resource_filename(\n",
    "    \"agnpy\",\n",
    "    \"data/reference_seds/finke_2016/figure_11/ec_dt_r_1e18.txt\",\n",
    ")\n",
    "\n",
    "data_ec_dt_finke = np.loadtxt(ec_dt_finke, delimiter=\",\")\n",
    "\n",
    "nu_ec_dt_finke = data_ec_dt_finke[:, 0] * u.Hz\n",
    "sed_ec_dt_finke = data_ec_dt_finke[:, 1] * u.Unit(\"erg cm-2 s-1\")"
   ]
  },
  {
   "cell_type": "markdown",
   "metadata": {},
   "source": [
    "As for the previous case, we have pre-generated the same emission with `JetSet v1.2.2` functions. They are available in this repository."
   ]
  },
  {
   "cell_type": "code",
   "execution_count": null,
   "metadata": {},
   "outputs": [],
   "source": [
    "# load the SED pre-generated with jetset the reference figure\n",
    "data_ec_dt_jetset = np.loadtxt(\"data/ec_dt_bpwl_jetset_1.1.2.txt\", delimiter=\",\")\n",
    "\n",
    "nu_ec_dt_jetset = data_ec_dt_jetset[:, 0] * u.Hz\n",
    "sed_ec_dt_jetset = data_ec_dt_jetset[:, 1] * u.Unit(\"erg cm-2 s-1\")"
   ]
  },
  {
   "cell_type": "markdown",
   "metadata": {},
   "source": [
    "We then produce a final validation plot."
   ]
  },
  {
   "cell_type": "code",
   "execution_count": null,
   "metadata": {},
   "outputs": [],
   "source": [
    "plot_sed(\n",
    "    nu,\n",
    "    sed_ec_dt,\n",
    "    color=\"crimson\",\n",
    "    label=\"agnpy\",\n",
    ")\n",
    "plot_sed(\n",
    "    nu_ec_dt_finke, sed_ec_dt_finke, color=\"k\", ls=\"--\", label=\"Figure 11, Finke 2016\"\n",
    ")\n",
    "plot_sed(nu_ec_dt_jetset, sed_ec_dt_jetset, color=\"dodgerblue\", ls=\"-.\", label=\"jetset\")\n",
    "\n",
    "plt.legend(fontsize=11)\n",
    "plt.ylim([1e-20, 1e-14])\n",
    "plt.show()"
   ]
  },
  {
   "cell_type": "markdown",
   "metadata": {},
   "source": [
    "As for the synchrotron and SSC case, we observe a very good agreement between the packages and the literature."
   ]
  },
  {
   "cell_type": "markdown",
   "metadata": {},
   "source": [
    "## 4.3. Exercises\n",
    "\n",
    "### 4.3.1 Approximating the DT with a point-like monochromatic source\n",
    "\n",
    "For a distance much larger than the dust torus radius, $r=10^{22}\\,{\\rm cm}$, produce the SED for EC on a point-like source approximating the DT (see previous exercise), and check if the latter correctly approximates the actual EC on the DT.\n",
    "\n",
    "What happens if we reduce the distance to $r=10^{21}\\,{\\rm cm}$, is the approximation still valid?"
   ]
  },
  {
   "cell_type": "code",
   "execution_count": null,
   "metadata": {},
   "outputs": [],
   "source": []
  }
 ],
 "metadata": {
  "kernelspec": {
   "display_name": "Python 3 (ipykernel)",
   "language": "python",
   "name": "python3"
  },
  "language_info": {
   "codemirror_mode": {
    "name": "ipython",
    "version": 3
   },
   "file_extension": ".py",
   "mimetype": "text/x-python",
   "name": "python",
   "nbconvert_exporter": "python",
   "pygments_lexer": "ipython3",
   "version": "3.9.18"
  }
 },
 "nbformat": 4,
 "nbformat_minor": 2
}
